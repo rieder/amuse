{
 "cells": [
  {
   "cell_type": "markdown",
   "metadata": {},
   "source": [
    "Welcome to ***AMUSE***. You are currently viewing the AMUSE tutorial. This is a [Jupyter Notebook web-application](https://jupyter.org/ \"Jupyter\"). With this application you can create, edit and run python scripts on your local computer. We will be using it for these AMUSE tutorials, but you can use it for all your interactive explorations of Python and it's many libraries, scripts and applications. This first tutorial is for users unfamiliar with the notebook interface."
   ]
  },
  {
   "cell_type": "markdown",
   "metadata": {},
   "source": [
    "Using the notebook interface is not very difficult, but you''ll need to get acquainted with some keyboard shortcuts.\n",
    "To perform a simple Python expression, type it inside a ***code*** cell and press 'Shift-Enter':"
   ]
  },
  {
   "cell_type": "code",
   "execution_count": null,
   "metadata": {},
   "outputs": [],
   "source": [
    "6.6738e-11  * 5.972e24 /  6378.1**2"
   ]
  },
  {
   "cell_type": "markdown",
   "metadata": {},
   "source": [
    "The application also supports _keyboard completion_. If you know the first letters of a function or a class, IPython can lookup the rest. For example type 'pri' and press the 'Tab' key:"
   ]
  },
  {
   "cell_type": "code",
   "execution_count": null,
   "metadata": {},
   "outputs": [],
   "source": [
    "pri"
   ]
  },
  {
   "cell_type": "markdown",
   "metadata": {},
   "source": [
    "This also works for modules, just enter an import statement and press tab on the module name:"
   ]
  },
  {
   "cell_type": "code",
   "execution_count": null,
   "metadata": {},
   "outputs": [],
   "source": [
    "from amuse import l"
   ]
  },
  {
   "cell_type": "markdown",
   "metadata": {},
   "source": [
    "The 'Tab' key can also be used to get documentation for a function. The documentation will be shown when you press the 'shift' + 'Tab' keys just after a open  parenthesis '('. For example type 'print(' and press 'shift+Tab':"
   ]
  },
  {
   "cell_type": "code",
   "execution_count": null,
   "metadata": {},
   "outputs": [],
   "source": [
    "print("
   ]
  },
  {
   "cell_type": "markdown",
   "metadata": {},
   "source": [
    "There are a few more keyboard shortcuts. To find out which navigate to the 'Keyboard Shortcuts' item in the Help menu."
   ]
  },
  {
   "cell_type": "markdown",
   "metadata": {},
   "source": [
    "Here, and also in normal AMUSE scripts, matplotlib and numpy are often used for plotting and numerical operations, these are enabled by the following imports. The inline statement includes the plots into the notebook:"
   ]
  },
  {
   "cell_type": "code",
   "execution_count": null,
   "metadata": {},
   "outputs": [],
   "source": [
    "%matplotlib inline\n",
    "from matplotlib import pyplot\n",
    "import numpy\n",
    "\n",
    "pyplot.plot(numpy.arange(10))"
   ]
  }
 ],
 "metadata": {
  "kernelspec": {
   "display_name": "Python 2",
   "language": "python",
   "name": "python2"
  },
  "language_info": {
   "codemirror_mode": {
    "name": "ipython",
    "version": 3
   },
   "file_extension": ".py",
   "mimetype": "text/x-python",
   "name": "python",
   "nbconvert_exporter": "python",
   "pygments_lexer": "ipython3",
   "version": "3.8.3"
  }
 },
 "nbformat": 4,
 "nbformat_minor": 1
}
